{
 "cells": [
  {
   "cell_type": "code",
   "execution_count": null,
   "metadata": {},
   "outputs": [],
   "source": [
    "# import requests\n",
    "# import csv\n",
    "# from bs4 import BeautifulSoup\n",
    "\n",
    "\n",
    "# response = requests.get('https://www.barnesandnoble.com/w/effective-python-brett-slatkin/1130203296?ean=9780134853987')\n",
    "\n"
   ]
  },
  {
   "cell_type": "code",
   "execution_count": 59,
   "metadata": {},
   "outputs": [
    {
     "name": "stdout",
     "output_type": "stream",
     "text": [
      "41.02 New 9780134853987 Addison Wesley Professional November 2019\n"
     ]
    }
   ],
   "source": [
    "import requests\n",
    "import csv\n",
    "from bs4 import BeautifulSoup\n",
    "\n",
    "response = requests.get('https://www.thriftbooks.com/w/effective-python-90-specific-ways-to-write-better-python_brett-slatkin/26566163/?resultid=3525a313-64d9-4294-8604-27958a00d283#edition=21451970&idiq=35394394')\n",
    "soup = BeautifulSoup(response.text, 'html.parser')\n",
    "\n",
    "\n",
    "price = soup.find(\"span\",{\"class\": \"price\"}).text\n",
    "condition = soup.find_all(lambda tag: tag.name == \"p\" and \"Condition\" in tag.text)[0].text.split(\": \")[1]\n",
    "details = soup.find_all(\"div\", {\"class\": \"WorkMeta-detailsRow\"})\n",
    "for detail in details:\n",
    "    if (\"ISBN13\" in detail.text):\n",
    "        isbn13=detail.text.split(\":\")[1]\n",
    "    elif (\"Publisher\" in detail.text):\n",
    "        publisher=detail.text.split(\":\")[1]\n",
    "    elif (\"Release Date\" in detail.text):\n",
    "        release_date=detail.text.split(\":\")[1]\n",
    "    elif (\"Length\" in detail.text):\n",
    "        pages=detail.text.split(\":\")[1].split(\" \")[0]\n",
    "    elif (\"Dimensions\" in detail.text):\n",
    "        dims=detail.text.split(\":\")[1]        \n",
    "depth,width,height=dims.split(\"x\")\n",
    "\n",
    "print(price,condition,isbn13,publisher,release_date)\n"
   ]
  },
  {
   "cell_type": "code",
   "execution_count": 60,
   "metadata": {},
   "outputs": [
    {
     "name": "stdout",
     "output_type": "stream",
     "text": [
      "Thank you for your time\n"
     ]
    }
   ],
   "source": [
    "\"\"\"Saving data to CSV file\"\"\"\n",
    "\n",
    "header_row=[\"ISBN13\",\"Publisher\",\"Release Date\",\"Price\",\"Pages\",\"Depth\",\"Width\",\"Height\",\"Condition\"]\n",
    "data=[isbn13,publisher,release_date,price,pages,depth,width,height,condition]\n",
    "\n",
    "with open('./data_scraping/bookinfo.csv', 'w', encoding='UTF8', newline='') as new_file:\n",
    "    writer = csv.writer(new_file)\n",
    "    writer.writerow(header_row)\n",
    "    writer.writerow(data)\n",
    "    \n",
    "    new_file.close()\n",
    "    \n",
    "print(\"Thank you for your time\")"
   ]
  },
  {
   "cell_type": "code",
   "execution_count": null,
   "metadata": {},
   "outputs": [],
   "source": []
  },
  {
   "cell_type": "code",
   "execution_count": null,
   "metadata": {},
   "outputs": [],
   "source": []
  }
 ],
 "metadata": {
  "kernelspec": {
   "display_name": "Python 3",
   "language": "python",
   "name": "python3"
  },
  "language_info": {
   "codemirror_mode": {
    "name": "ipython",
    "version": 3
   },
   "file_extension": ".py",
   "mimetype": "text/x-python",
   "name": "python",
   "nbconvert_exporter": "python",
   "pygments_lexer": "ipython3",
   "version": "3.8.5"
  }
 },
 "nbformat": 4,
 "nbformat_minor": 4
}
