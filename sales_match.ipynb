{
 "cells": [
  {
   "cell_type": "code",
   "execution_count": 1,
   "metadata": {},
   "outputs": [],
   "source": [
    "#Function counts number of pairs of each value in a list/array\n",
    "\n",
    "def sockMerchant(n, ar):\n",
    "    colors=[]\n",
    "    colorsCount=[]\n",
    "    for i in ar:\n",
    "        if (i in colors): continue\n",
    "        else: colors.append(i)\n",
    "    numColors=len(colors)\n",
    "    colorsCount=[0]*(numColors)\n",
    "    for i in range(0,numColors):\n",
    "        for j in ar:\n",
    "            if (j==colors[i]):\n",
    "                colorsCount[i]=colorsCount[i]+1\n",
    "    totalPairs=0\n",
    "    for i in colorsCount:\n",
    "        totalPairs = totalPairs+i//2\n",
    "    return totalPairs"
   ]
  },
  {
   "cell_type": "code",
   "execution_count": 2,
   "metadata": {},
   "outputs": [
    {
     "name": "stdout",
     "output_type": "stream",
     "text": [
      "3\n"
     ]
    }
   ],
   "source": [
    "print(sockMerchant(10,[1,3,5,2,1,5,4,4,5,7]))"
   ]
  },
  {
   "cell_type": "code",
   "execution_count": null,
   "metadata": {},
   "outputs": [],
   "source": []
  }
 ],
 "metadata": {
  "kernelspec": {
   "display_name": "Python 3",
   "language": "python",
   "name": "python3"
  },
  "language_info": {
   "codemirror_mode": {
    "name": "ipython",
    "version": 3
   },
   "file_extension": ".py",
   "mimetype": "text/x-python",
   "name": "python",
   "nbconvert_exporter": "python",
   "pygments_lexer": "ipython3",
   "version": "3.8.5"
  }
 },
 "nbformat": 4,
 "nbformat_minor": 4
}
