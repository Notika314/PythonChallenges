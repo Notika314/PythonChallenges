{
 "cells": [
  {
   "cell_type": "code",
   "execution_count": null,
   "metadata": {},
   "outputs": [],
   "source": [
    "def allVisited(l):\n",
    "    for i in l:\n",
    "        if i==0:\n",
    "            return False\n",
    "    return True\n",
    "\n",
    "def isRepetitive(num):\n",
    "    if (len(num)==1): return False\n",
    "    i=0\n",
    "    while (i<len(num)):\n",
    "        j=i+1\n",
    "        while (j<len(num)):\n",
    "            if (num[i]==num[j]):\n",
    "                #print(i,j)\n",
    "                return True\n",
    "            j=j+1\n",
    "        i=i+1\n",
    "    return False\n",
    "\n",
    "def rollingNumbers(xNum,yNum):\n",
    "    rollingNumbers=[]   #initialize list of rolling numbers to be an empty list\n",
    "    for i in range (xNum,yNum+1):\n",
    "        number=str(i)\n",
    "        if (isRepetitive(number)): continue\n",
    "        numIsRolling=False  #set flag to false \n",
    "        j=0\n",
    "        visitedIndeces=[0]*len(number)   #initialize list of 0's for each index ( will be turning into 1 once visited)  \n",
    "        while (numIsRolling==False):\n",
    "            while (j>=len(number)): j=j-len(number)\n",
    "            currentValue=int(number[j])  #find number of Steps\n",
    "            nextPosition= currentValue+j\n",
    "            while (nextPosition>=len(number)):\n",
    "                nextPosition=nextPosition-len(number)  #if current index is too large, subtract array's length\n",
    "            if (visitedIndeces[nextPosition]==1):   #if the index was already visited, exit the loop\n",
    "                break\n",
    "            else:\n",
    "                visitedIndeces[nextPosition]=1 #if index was not visited yet, mark it as visited\n",
    "                if (allVisited(visitedIndeces)):\n",
    "                    numIsRolling=True\n",
    "            j=int(number[nextPosition])+j\n",
    "            if (j==0):\n",
    "                break\n",
    "        if (numIsRolling==True):\n",
    "            rollingNumbers.append(number)\n",
    "            print(number)\n",
    "            \n",
    "rollingNumbers(1,1000)\n",
    "                            \n",
    "    \n",
    "#rollingNumbers(1,10)"
   ]
  }
 ],
 "metadata": {
  "kernelspec": {
   "display_name": "Python 3",
   "language": "python",
   "name": "python3"
  },
  "language_info": {
   "codemirror_mode": {
    "name": "ipython",
    "version": 3
   },
   "file_extension": ".py",
   "mimetype": "text/x-python",
   "name": "python",
   "nbconvert_exporter": "python",
   "pygments_lexer": "ipython3",
   "version": "3.8.5"
  }
 },
 "nbformat": 4,
 "nbformat_minor": 4
}
