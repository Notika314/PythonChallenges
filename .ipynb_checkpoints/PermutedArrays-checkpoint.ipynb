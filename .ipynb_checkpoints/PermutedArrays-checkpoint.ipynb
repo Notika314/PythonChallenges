{
 "cells": [
  {
   "cell_type": "code",
   "execution_count": 3,
   "metadata": {},
   "outputs": [
    {
     "name": "stdout",
     "output_type": "stream",
     "text": [
      "YES\n",
      "NO\n"
     ]
    }
   ],
   "source": [
    "#There are two -element arrays of integers,  and . Permute them into some  and  such that the relation  holds for all  where .\n",
    "# Return YES if some permutation ,  \n",
    "# satisfying the relation exists. Otherwise, return NO.\n",
    "\n",
    "\n",
    "def ArrayPermutation(A,B, k):\n",
    "    sortedA=sorted(A)\n",
    "    sortedB=sorted(B, reverse=True )\n",
    "    for i in range (0,len(A)):\n",
    "        if (sortedA[i]+sortedB[i]<k):\n",
    "            return \"NO\"\n",
    "    return \"YES\"\n",
    "\n",
    "print(ArrayPermutation([2,1,3],[7,8,9], 10))\n",
    "print(ArrayPermutation([1,2,2,1],[3,3,3,4],5))\n"
   ]
  },
  {
   "cell_type": "code",
   "execution_count": null,
   "metadata": {},
   "outputs": [],
   "source": []
  }
 ],
 "metadata": {
  "kernelspec": {
   "display_name": "Python 3",
   "language": "python",
   "name": "python3"
  },
  "language_info": {
   "codemirror_mode": {
    "name": "ipython",
    "version": 3
   },
   "file_extension": ".py",
   "mimetype": "text/x-python",
   "name": "python",
   "nbconvert_exporter": "python",
   "pygments_lexer": "ipython3",
   "version": "3.8.5"
  }
 },
 "nbformat": 4,
 "nbformat_minor": 4
}
